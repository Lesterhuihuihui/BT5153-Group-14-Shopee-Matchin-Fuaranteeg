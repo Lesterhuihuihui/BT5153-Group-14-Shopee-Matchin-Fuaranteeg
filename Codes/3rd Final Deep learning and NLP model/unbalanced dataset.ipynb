{
 "cells": [
  {
   "cell_type": "code",
   "execution_count": 5,
   "id": "eaf0057e",
   "metadata": {},
   "outputs": [
    {
     "name": "stderr",
     "output_type": "stream",
     "text": [
      "[nltk_data] Downloading package stopwords to\n",
      "[nltk_data]     C:\\Users\\Lesterhui\\AppData\\Roaming\\nltk_data...\n",
      "[nltk_data]   Package stopwords is already up-to-date!\n"
     ]
    }
   ],
   "source": [
    "import os\n",
    "import cv2\n",
    "from PIL import Image\n",
    "import string\n",
    "import pandas as pd\n",
    "import numpy as np\n",
    "import seaborn as sns\n",
    "import matplotlib.pyplot as plt\n",
    "import nltk\n",
    "nltk.download('stopwords')\n",
    "from nltk.corpus import stopwords\n",
    "from nltk.tokenize import word_tokenize\n",
    "from nltk.stem import PorterStemmer, WordNetLemmatizer\n",
    "from nltk import pos_tag, ne_chunk\n",
    "from textblob import TextBlob\n",
    "from sklearn.feature_extraction.text import CountVectorizer, TfidfVectorizer\n",
    "from wordcloud import WordCloud, ImageColorGenerator\n",
    "from wordcloud import STOPWORDS as stopwords_wc\n",
    "\n"
   ]
  },
  {
   "cell_type": "code",
   "execution_count": 6,
   "id": "4a6729f6",
   "metadata": {},
   "outputs": [],
   "source": [
    "train_df = pd.read_csv('train.csv')"
   ]
  },
  {
   "cell_type": "code",
   "execution_count": 9,
   "id": "4eae48e9",
   "metadata": {},
   "outputs": [
    {
     "name": "stdout",
     "output_type": "stream",
     "text": [
      "Total no. of images with duplicates: 1,246\n"
     ]
    },
    {
     "data": {
      "image/png": "[encoded data removed]",
      "text/plain": [
       "<Figure size 1152x504 with 1 Axes>"
      ]
     },
     "metadata": {
      "needs_background": "light"
     },
     "output_type": "display_data"
    }
   ],
   "source": [
    "# Get the count of apparitions per image\n",
    "image_count = train_df[\"image\"].value_counts().reset_index()\n",
    "image_count.columns = [\"image\", \"count\"]\n",
    "image_count_duplicates = image_count[image_count[\"count\"] > 1]\n",
    "print(\"Total no. of images with duplicates: {:,}\".format(len(image_count_duplicates)))\n",
    "my_colors = [\"#EDAC54\", \"#F4C5B7\", \"#DD7555\", \"#B95F18\", \"#475A20\"]\n",
    "#Plot\n",
    "fig, ax = plt.subplots(figsize=(16, 7))\n",
    "plt.bar(x=image_count_duplicates.iloc[::16][\"image\"],\n",
    "        height=image_count_duplicates.iloc[::16][\"count\"],\n",
    "        color=my_colors[4])\n",
    "plt.title(\"Duplicated Images: TOP 16 Apparitions for each image ID\", fontsize=20)\n",
    "plt.xticks([])\n",
    "plt.xlabel(\"Image ID\", fontsize=16)\n",
    "plt.ylabel(\"Count\", fontsize=16);"
   ]
  },
  {
   "cell_type": "code",
   "execution_count": 14,
   "id": "a1d3ba1d",
   "metadata": {},
   "outputs": [
    {
     "name": "stdout",
     "output_type": "stream",
     "text": [
      "No. of unique groups: 11,014 \n",
      "Max no. of apparitions in 1 group: 51 \n",
      "Min no. of apparitions in 1 group: 2\n"
     ]
    }
   ],
   "source": [
    "# Get count of values on each group\n",
    "import wandb\n",
    "groups_df = train_df[\"label_group\"].value_counts().reset_index()\n",
    "groups_df.columns = [\"group\", \"count\"]\n",
    "\n",
    "# Print info\n",
    "print(\"No. of unique groups: {:,}\".format(len(groups_df)), \"\\n\" +\n",
    "      \"Max no. of apparitions in 1 group: {}\".format(groups_df[\"count\"].max()), \"\\n\" +\n",
    "      \"Min no. of apparitions in 1 group: {}\".format(groups_df[\"count\"].min()))\n"
   ]
  },
  {
   "cell_type": "code",
   "execution_count": null,
   "id": "2d65d49c",
   "metadata": {},
   "outputs": [],
   "source": []
  }
 ],
 "metadata": {
  "kernelspec": {
   "display_name": "Python 3",
   "language": "python",
   "name": "python3"
  },
  "language_info": {
   "codemirror_mode": {
    "name": "ipython",
    "version": 3
   },
   "file_extension": ".py",
   "mimetype": "text/x-python",
   "name": "python",
   "nbconvert_exporter": "python",
   "pygments_lexer": "ipython3",
   "version": "3.8.8"
  }
 },
 "nbformat": 4,
 "nbformat_minor": 5
}
