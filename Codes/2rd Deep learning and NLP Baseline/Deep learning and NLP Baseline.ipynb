{
 "cells": [
  {
   "cell_type": "code",
   "execution_count": 2,
   "metadata": {
    "ExecuteTime": {
     "end_time": "2021-03-18T09:59:14.869532Z",
     "start_time": "2021-03-18T09:59:14.482759Z"
    },
    "execution": {
     "iopub.execute_input": "2022-04-20T13:56:37.797101Z",
     "iopub.status.busy": "2022-04-20T13:56:37.796450Z",
     "iopub.status.idle": "2022-04-20T13:56:37.958711Z",
     "shell.execute_reply": "2022-04-20T13:56:37.957717Z"
    },
    "papermill": {
     "duration": 0.182831,
     "end_time": "2022-04-20T13:56:37.958882",
     "exception": false,
     "start_time": "2022-04-20T13:56:37.776051",
     "status": "completed"
    },
    "tags": []
   },
   "outputs": [],
   "source": [
    "import psutil\n",
    "import numpy as np # linear algebra\n",
    "import pandas as pd # data processing, CSV file I/O (e.g. pd.read_csv)\n",
    "import cv2, matplotlib.pyplot as plt\n",
    "from tqdm import tqdm_notebook\n",
    "import gc\n",
    "\n",
    "# import cudf, cuml, cupy\n",
    "# from cuml.feature_extraction.text import TfidfVectorizer\n",
    "# from cuml.neighbors import NearestNeighbors\n",
    "\n",
    "def getMetric(col):\n",
    "    def f1score(row):\n",
    "        n = len( np.intersect1d(row.target,row[col]) )\n",
    "        return 2*n / (len(row.target)+len(row[col]))\n",
    "    return f1score"
   ]
  },
  {
   "cell_type": "code",
   "execution_count": 3,
   "metadata": {
    "ExecuteTime": {
     "end_time": "2021-03-18T09:59:15.92512Z",
     "start_time": "2021-03-18T09:59:15.308672Z"
    },
    "execution": {
     "iopub.execute_input": "2022-04-20T13:56:37.998413Z",
     "iopub.status.busy": "2022-04-20T13:56:37.997878Z",
     "iopub.status.idle": "2022-04-20T13:56:38.882760Z",
     "shell.execute_reply": "2022-04-20T13:56:38.883164Z"
    },
    "papermill": {
     "duration": 0.90868,
     "end_time": "2022-04-20T13:56:38.883320",
     "exception": false,
     "start_time": "2022-04-20T13:56:37.974640",
     "status": "completed"
    },
    "tags": []
   },
   "outputs": [
    {
     "name": "stdout",
     "output_type": "stream",
     "text": [
      "this submission notebook will compute CV score, but commit notebook will not\n",
      "train shape is (34250, 6)\n"
     ]
    },
    {
     "data": {
      "text/html": [
       "<div>\n",
       "<style scoped>\n",
       "    .dataframe tbody tr th:only-of-type {\n",
       "        vertical-align: middle;\n",
       "    }\n",
       "\n",
       "    .dataframe tbody tr th {\n",
       "        vertical-align: top;\n",
       "    }\n",
       "\n",
       "    .dataframe thead th {\n",
       "        text-align: right;\n",
       "    }\n",
       "</style>\n",
       "<table border=\"1\" class=\"dataframe\">\n",
       "  <thead>\n",
       "    <tr style=\"text-align: right;\">\n",
       "      <th></th>\n",
       "      <th>posting_id</th>\n",
       "      <th>image</th>\n",
       "      <th>image_phash</th>\n",
       "      <th>title</th>\n",
       "      <th>label_group</th>\n",
       "      <th>target</th>\n",
       "    </tr>\n",
       "  </thead>\n",
       "  <tbody>\n",
       "    <tr>\n",
       "      <th>0</th>\n",
       "      <td>train_129225211</td>\n",
       "      <td>../input/shopee-product-matching/train_images/...</td>\n",
       "      <td>94974f937d4c2433</td>\n",
       "      <td>Paper Bag Victoria Secret</td>\n",
       "      <td>249114794</td>\n",
       "      <td>[train_129225211, train_2278313361]</td>\n",
       "    </tr>\n",
       "    <tr>\n",
       "      <th>1</th>\n",
       "      <td>train_3386243561</td>\n",
       "      <td>../input/shopee-product-matching/train_images/...</td>\n",
       "      <td>af3f9460c2838f0f</td>\n",
       "      <td>Double Tape 3M VHB 12 mm x 4,5 m ORIGINAL / DO...</td>\n",
       "      <td>2937985045</td>\n",
       "      <td>[train_3386243561, train_3423213080]</td>\n",
       "    </tr>\n",
       "    <tr>\n",
       "      <th>2</th>\n",
       "      <td>train_2288590299</td>\n",
       "      <td>../input/shopee-product-matching/train_images/...</td>\n",
       "      <td>b94cb00ed3e50f78</td>\n",
       "      <td>Maling TTS Canned Pork Luncheon Meat 397 gr</td>\n",
       "      <td>2395904891</td>\n",
       "      <td>[train_2288590299, train_3803689425]</td>\n",
       "    </tr>\n",
       "    <tr>\n",
       "      <th>3</th>\n",
       "      <td>train_2406599165</td>\n",
       "      <td>../input/shopee-product-matching/train_images/...</td>\n",
       "      <td>8514fc58eafea283</td>\n",
       "      <td>Daster Batik Lengan pendek - Motif Acak / Camp...</td>\n",
       "      <td>4093212188</td>\n",
       "      <td>[train_2406599165, train_3342059966]</td>\n",
       "    </tr>\n",
       "    <tr>\n",
       "      <th>4</th>\n",
       "      <td>train_3369186413</td>\n",
       "      <td>../input/shopee-product-matching/train_images/...</td>\n",
       "      <td>a6f319f924ad708c</td>\n",
       "      <td>Nescafe \\xc3\\x89clair Latte 220ml</td>\n",
       "      <td>3648931069</td>\n",
       "      <td>[train_3369186413, train_921438619]</td>\n",
       "    </tr>\n",
       "  </tbody>\n",
       "</table>\n",
       "</div>"
      ],
      "text/plain": [
       "         posting_id                                              image  \\\n",
       "0   train_129225211  ../input/shopee-product-matching/train_images/...   \n",
       "1  train_3386243561  ../input/shopee-product-matching/train_images/...   \n",
       "2  train_2288590299  ../input/shopee-product-matching/train_images/...   \n",
       "3  train_2406599165  ../input/shopee-product-matching/train_images/...   \n",
       "4  train_3369186413  ../input/shopee-product-matching/train_images/...   \n",
       "\n",
       "        image_phash                                              title  \\\n",
       "0  94974f937d4c2433                          Paper Bag Victoria Secret   \n",
       "1  af3f9460c2838f0f  Double Tape 3M VHB 12 mm x 4,5 m ORIGINAL / DO...   \n",
       "2  b94cb00ed3e50f78        Maling TTS Canned Pork Luncheon Meat 397 gr   \n",
       "3  8514fc58eafea283  Daster Batik Lengan pendek - Motif Acak / Camp...   \n",
       "4  a6f319f924ad708c                  Nescafe \\xc3\\x89clair Latte 220ml   \n",
       "\n",
       "   label_group                                target  \n",
       "0    249114794   [train_129225211, train_2278313361]  \n",
       "1   2937985045  [train_3386243561, train_3423213080]  \n",
       "2   2395904891  [train_2288590299, train_3803689425]  \n",
       "3   4093212188  [train_2406599165, train_3342059966]  \n",
       "4   3648931069   [train_3369186413, train_921438619]  "
      ]
     },
     "execution_count": 3,
     "metadata": {},
     "output_type": "execute_result"
    }
   ],
   "source": [
    "DATA_PATH = '..//shopee-product-matching/'\n",
    "COMPUTE_CV = True\n",
    "\n",
    "test = pd.read_csv(DATA_PATH + 'test.csv')\n",
    "if len(test)>3: COMPUTE_CV = False\n",
    "else: print('this submission notebook will compute CV score, but commit notebook will not')\n",
    "\n",
    "# COMPUTE_CV = False\n",
    "\n",
    "if COMPUTE_CV:\n",
    "    train = pd.read_csv(DATA_PATH + 'train.csv')\n",
    "    train['image'] = DATA_PATH + 'train_images/' + train['image']\n",
    "    tmp = train.groupby('label_group').posting_id.agg('unique').to_dict()\n",
    "    train['target'] = train.label_group.map(tmp)\n",
    "    # train_gf = cudf.read_csv(DATA_PATH + 'train.csv')\n",
    "else:\n",
    "    train = pd.read_csv(DATA_PATH + 'test.csv')\n",
    "    train['image'] = DATA_PATH + 'test_images/' + train['image']\n",
    "    # train_gf = cudf.read_csv(DATA_PATH + 'test.csv')\n",
    "    \n",
    "print('train shape is', train.shape )\n",
    "train.head()"
   ]
  },
  {
   "cell_type": "markdown",
   "metadata": {
    "papermill": {
     "duration": 0.016487,
     "end_time": "2022-04-20T13:56:38.916837",
     "exception": false,
     "start_time": "2022-04-20T13:56:38.900350",
     "status": "completed"
    },
    "tags": []
   },
   "source": [
    "# image hash"
   ]
  },
  {
   "cell_type": "code",
   "execution_count": 4,
   "metadata": {
    "ExecuteTime": {
     "end_time": "2021-03-18T09:59:19.569052Z",
     "start_time": "2021-03-18T09:59:18.284395Z"
    },
    "execution": {
     "iopub.execute_input": "2022-04-20T13:56:38.960116Z",
     "iopub.status.busy": "2022-04-20T13:56:38.959339Z",
     "iopub.status.idle": "2022-04-20T13:56:40.877992Z",
     "shell.execute_reply": "2022-04-20T13:56:40.878610Z"
    },
    "papermill": {
     "duration": 1.945002,
     "end_time": "2022-04-20T13:56:40.878860",
     "exception": false,
     "start_time": "2022-04-20T13:56:38.933858",
     "status": "completed"
    },
    "tags": []
   },
   "outputs": [],
   "source": [
    "tmp = train.groupby('image_phash').posting_id.agg('unique').to_dict()\n",
    "train['oof_hash'] = train.image_phash.map(tmp)"
   ]
  },
  {
   "cell_type": "code",
   "execution_count": 5,
   "metadata": {
    "ExecuteTime": {
     "end_time": "2021-03-18T09:59:21.98207Z",
     "start_time": "2021-03-18T09:59:20.62671Z"
    },
    "execution": {
     "iopub.execute_input": "2022-04-20T13:56:40.929155Z",
     "iopub.status.busy": "2022-04-20T13:56:40.928335Z",
     "iopub.status.idle": "2022-04-20T13:56:43.400550Z",
     "shell.execute_reply": "2022-04-20T13:56:43.401142Z"
    },
    "papermill": {
     "duration": 2.501149,
     "end_time": "2022-04-20T13:56:43.401305",
     "exception": false,
     "start_time": "2022-04-20T13:56:40.900156",
     "status": "completed"
    },
    "scrolled": true,
    "tags": []
   },
   "outputs": [
    {
     "name": "stdout",
     "output_type": "stream",
     "text": [
      "CV score for baseline = 0.5530933399167943\n"
     ]
    }
   ],
   "source": [
    "if COMPUTE_CV:\n",
    "    train['f1'] = train.apply(getMetric('oof_hash'),axis=1)\n",
    "    print('CV score for baseline =',train.f1.mean())"
   ]
  },
  {
   "cell_type": "markdown",
   "metadata": {
    "papermill": {
     "duration": 0.020228,
     "end_time": "2022-04-20T13:56:43.441895",
     "exception": false,
     "start_time": "2022-04-20T13:56:43.421667",
     "status": "completed"
    },
    "tags": []
   },
   "source": [
    "# text word2vec"
   ]
  },
  {
   "cell_type": "code",
   "execution_count": 6,
   "metadata": {
    "execution": {
     "iopub.execute_input": "2022-04-20T13:56:43.485701Z",
     "iopub.status.busy": "2022-04-20T13:56:43.483874Z",
     "iopub.status.idle": "2022-04-20T13:56:43.486395Z",
     "shell.execute_reply": "2022-04-20T13:56:43.486872Z"
    },
    "papermill": {
     "duration": 0.026485,
     "end_time": "2022-04-20T13:56:43.487046",
     "exception": false,
     "start_time": "2022-04-20T13:56:43.460561",
     "status": "completed"
    },
    "tags": []
   },
   "outputs": [],
   "source": [
    "train['title_word'] = train['title'].apply(lambda x: x.lower().split(' '))\n",
    "\n",
    "from gensim.test.utils import get_tmpfile\n",
    "from gensim.models import KeyedVectors\n",
    "\n",
    "vectors = KeyedVectors.load_word2vec_format(\"../input/glove2word2vec/glove_w2v.txt\") # import the data file"
   ]
  },
  {
   "cell_type": "code",
   "execution_count": 7,
   "metadata": {
    "execution": {
     "iopub.execute_input": "2022-04-20T13:56:43.531518Z",
     "iopub.status.busy": "2022-04-20T13:56:43.529610Z",
     "iopub.status.idle": "2022-04-20T13:56:43.532121Z",
     "shell.execute_reply": "2022-04-20T13:56:43.532566Z"
    },
    "papermill": {
     "duration": 0.026252,
     "end_time": "2022-04-20T13:56:43.532705",
     "exception": false,
     "start_time": "2022-04-20T13:56:43.506453",
     "status": "completed"
    },
    "tags": []
   },
   "outputs": [],
   "source": [
    "title_feats = []\n",
    "for title in tqdm_notebook(train['title_word'].values[:]):\n",
    "    title_feat = []\n",
    "    for word in title:\n",
    "        if word in vectors:\n",
    "            title_feat.append(vectors[word])\n",
    "    if len(title_feat) == 0:\n",
    "        title_feat = np.random.rand(200)\n",
    "    else:\n",
    "        title_feat = np.vstack(title_feat).max(0)\n",
    "    title_feats.append(title_feat)\n",
    "    # break\n",
    "    \n",
    "del vectors;"
   ]
  },
  {
   "cell_type": "code",
   "execution_count": 8,
   "metadata": {
    "execution": {
     "iopub.execute_input": "2022-04-20T13:56:43.577225Z",
     "iopub.status.busy": "2022-04-20T13:56:43.575278Z",
     "iopub.status.idle": "2022-04-20T13:56:43.577949Z",
     "shell.execute_reply": "2022-04-20T13:56:43.578389Z"
    },
    "papermill": {
     "duration": 0.026494,
     "end_time": "2022-04-20T13:56:43.578548",
     "exception": false,
     "start_time": "2022-04-20T13:56:43.552054",
     "status": "completed"
    },
    "tags": []
   },
   "outputs": [],
   "source": [
    "from sklearn.preprocessing import normalize\n",
    "\n",
    "# l2 norm to kill all the sim in 0-1\n",
    "title_feats = np.vstack(title_feats)\n",
    "title_feats = normalize(title_feats)"
   ]
  },
  {
   "cell_type": "code",
   "execution_count": 9,
   "metadata": {
    "execution": {
     "iopub.execute_input": "2022-04-20T13:56:43.623398Z",
     "iopub.status.busy": "2022-04-20T13:56:43.622217Z",
     "iopub.status.idle": "2022-04-20T13:56:43.624229Z",
     "shell.execute_reply": "2022-04-20T13:56:43.624785Z"
    },
    "papermill": {
     "duration": 0.026703,
     "end_time": "2022-04-20T13:56:43.624940",
     "exception": false,
     "start_time": "2022-04-20T13:56:43.598237",
     "status": "completed"
    },
    "tags": []
   },
   "outputs": [],
   "source": [
    "preds = []\n",
    "CHUNK = 1024*4\n",
    "\n",
    "title_feats = cupy.array(title_feats)\n",
    "\n",
    "print('Finding similar images...')\n",
    "CTS = len(title_feats)//CHUNK\n",
    "if len(title_feats)%CHUNK!=0: CTS += 1\n",
    "for j in range( CTS ):\n",
    "    \n",
    "    a = j*CHUNK\n",
    "    b = (j+1)*CHUNK\n",
    "    b = min(b, len(title_feats))\n",
    "    print('chunk',a,'to',b)\n",
    "    \n",
    "    distances = cupy.matmul(title_feats, title_feats[a:b].T).T\n",
    "    # distances = np.dot(imagefeat[a:b,], imagefeat.T)\n",
    "    \n",
    "    for k in range(b-a):\n",
    "        IDX = cupy.where(distances[k,]>0.90)[0]\n",
    "        # IDX = np.where(distances[k,]>0.95)[0][:]\n",
    "        o = train.iloc[cupy.asnumpy(IDX)].posting_id.values\n",
    "        preds.append(o)\n",
    "        \n",
    "# del imagefeat, imgmodel"
   ]
  },
  {
   "cell_type": "code",
   "execution_count": 10,
   "metadata": {
    "execution": {
     "iopub.execute_input": "2022-04-20T13:56:43.668124Z",
     "iopub.status.busy": "2022-04-20T13:56:43.667329Z",
     "iopub.status.idle": "2022-04-20T13:56:43.670022Z",
     "shell.execute_reply": "2022-04-20T13:56:43.670532Z"
    },
    "papermill": {
     "duration": 0.026375,
     "end_time": "2022-04-20T13:56:43.670670",
     "exception": false,
     "start_time": "2022-04-20T13:56:43.644295",
     "status": "completed"
    },
    "tags": []
   },
   "outputs": [],
   "source": [
    "train['oof_w2v'] = preds\n",
    "\n",
    "if COMPUTE_CV:\n",
    "    train['f1'] = train.apply(getMetric('oof_w2v'),axis=1)\n",
    "    print('CV score for baseline =',train.f1.mean())"
   ]
  },
  {
   "cell_type": "markdown",
   "metadata": {
    "papermill": {
     "duration": 0.019194,
     "end_time": "2022-04-20T13:56:43.709430",
     "exception": false,
     "start_time": "2022-04-20T13:56:43.690236",
     "status": "completed"
    },
    "tags": []
   },
   "source": [
    "# image CNN"
   ]
  },
  {
   "cell_type": "code",
   "execution_count": 11,
   "metadata": {
    "ExecuteTime": {
     "end_time": "2021-03-18T09:59:24.147684Z",
     "start_time": "2021-03-18T09:59:23.6933Z"
    },
    "execution": {
     "iopub.execute_input": "2022-04-20T13:56:43.757190Z",
     "iopub.status.busy": "2022-04-20T13:56:43.756377Z",
     "iopub.status.idle": "2022-04-20T13:56:45.216126Z",
     "shell.execute_reply": "2022-04-20T13:56:45.215490Z"
    },
    "papermill": {
     "duration": 1.487014,
     "end_time": "2022-04-20T13:56:45.216262",
     "exception": false,
     "start_time": "2022-04-20T13:56:43.729248",
     "status": "completed"
    },
    "tags": []
   },
   "outputs": [],
   "source": [
    "from PIL import Image\n",
    "\n",
    "import torch\n",
    "torch.manual_seed(0)\n",
    "torch.backends.cudnn.deterministic = False\n",
    "torch.backends.cudnn.benchmark = True\n",
    "\n",
    "import torchvision.models as models\n",
    "import torchvision.transforms as transforms\n",
    "import torchvision.datasets as datasets\n",
    "import torch.nn as nn\n",
    "import torch.nn.functional as F\n",
    "import torch.optim as optim\n",
    "from torch.autograd import Variable\n",
    "from torch.utils.data.dataset import Dataset\n",
    "\n",
    "class ShopeeImageDataset(Dataset):\n",
    "    def __init__(self, img_path, transform):\n",
    "        self.img_path = img_path\n",
    "        self.transform = transform\n",
    "        \n",
    "    def __getitem__(self, index):\n",
    "        img = Image.open(self.img_path[index]).convert('RGB')\n",
    "        img = self.transform(img)\n",
    "        return img\n",
    "    \n",
    "    def __len__(self):\n",
    "        return len(self.img_path)"
   ]
  },
  {
   "cell_type": "code",
   "execution_count": 12,
   "metadata": {
    "ExecuteTime": {
     "end_time": "2021-03-18T09:59:25.6502Z",
     "start_time": "2021-03-18T09:59:25.64389Z"
    },
    "execution": {
     "iopub.execute_input": "2022-04-20T13:56:45.258053Z",
     "iopub.status.busy": "2022-04-20T13:56:45.257463Z",
     "iopub.status.idle": "2022-04-20T13:56:45.261221Z",
     "shell.execute_reply": "2022-04-20T13:56:45.260782Z"
    },
    "papermill": {
     "duration": 0.027039,
     "end_time": "2022-04-20T13:56:45.261337",
     "exception": false,
     "start_time": "2022-04-20T13:56:45.234298",
     "status": "completed"
    },
    "tags": []
   },
   "outputs": [],
   "source": [
    "imagedataset = ShopeeImageDataset(\n",
    "    train['image'].values,\n",
    "    transforms.Compose([\n",
    "        transforms.Resize((512, 512)),\n",
    "        transforms.ToTensor(),\n",
    "        transforms.Normalize([0.485, 0.456, 0.406], [0.229, 0.224, 0.225])\n",
    "]))\n",
    "    \n",
    "imageloader = torch.utils.data.DataLoader(\n",
    "    imagedataset,\n",
    "    batch_size=40, shuffle=False, num_workers=2\n",
    ")"
   ]
  },
  {
   "cell_type": "code",
   "execution_count": 13,
   "metadata": {
    "ExecuteTime": {
     "end_time": "2021-03-18T09:59:27.08827Z",
     "start_time": "2021-03-18T09:59:27.083495Z"
    },
    "execution": {
     "iopub.execute_input": "2022-04-20T13:56:45.303621Z",
     "iopub.status.busy": "2022-04-20T13:56:45.302935Z",
     "iopub.status.idle": "2022-04-20T13:56:45.305909Z",
     "shell.execute_reply": "2022-04-20T13:56:45.305451Z"
    },
    "papermill": {
     "duration": 0.026377,
     "end_time": "2022-04-20T13:56:45.306031",
     "exception": false,
     "start_time": "2022-04-20T13:56:45.279654",
     "status": "completed"
    },
    "tags": []
   },
   "outputs": [],
   "source": [
    "class ShopeeImageEmbeddingNet(nn.Module):\n",
    "    def __init__(self):\n",
    "        super(ShopeeImageEmbeddingNet, self).__init__()\n",
    "              \n",
    "        model = models.resnet18(True)\n",
    "        model.avgpool = nn.AdaptiveMaxPool2d(output_size=(1, 1))\n",
    "        model = nn.Sequential(*list(model.children())[:-1])\n",
    "        model.eval()\n",
    "        self.model = model\n",
    "        \n",
    "    def forward(self, img):        \n",
    "        out = self.model(img)\n",
    "        return out"
   ]
  },
  {
   "cell_type": "code",
   "execution_count": 14,
   "metadata": {
    "execution": {
     "iopub.execute_input": "2022-04-20T13:56:45.349546Z",
     "iopub.status.busy": "2022-04-20T13:56:45.349040Z",
     "iopub.status.idle": "2022-04-20T13:56:51.370356Z",
     "shell.execute_reply": "2022-04-20T13:56:51.369850Z"
    },
    "papermill": {
     "duration": 6.046301,
     "end_time": "2022-04-20T13:56:51.370499",
     "exception": false,
     "start_time": "2022-04-20T13:56:45.324198",
     "status": "completed"
    },
    "tags": []
   },
   "outputs": [],
   "source": [
    "!mkdir -p /root/.cache/torch/hub/checkpoints/\n",
    "!cp ../input/pretrained-pytorch-models/resnet18-5c106cde.pth /root/.cache/torch/hub/checkpoints/\n",
    "!cp ../input/pretrained-pytorch-models/resnet50-19c8e357.pth /root/.cache/torch/hub/checkpoints/"
   ]
  },
  {
   "cell_type": "code",
   "execution_count": 15,
   "metadata": {
    "ExecuteTime": {
     "end_time": "2021-03-18T10:01:20.420477Z",
     "start_time": "2021-03-18T09:59:28.809744Z"
    },
    "execution": {
     "iopub.execute_input": "2022-04-20T13:56:51.414956Z",
     "iopub.status.busy": "2022-04-20T13:56:51.414281Z",
     "iopub.status.idle": "2022-04-20T14:07:48.605850Z",
     "shell.execute_reply": "2022-04-20T14:07:48.605307Z"
    },
    "papermill": {
     "duration": 657.215915,
     "end_time": "2022-04-20T14:07:48.605999",
     "exception": false,
     "start_time": "2022-04-20T13:56:51.390084",
     "status": "completed"
    },
    "tags": []
   },
   "outputs": [
    {
     "name": "stderr",
     "output_type": "stream",
     "text": [
      "/opt/conda/lib/python3.7/site-packages/ipykernel_launcher.py:8: TqdmDeprecationWarning: This function will be removed in tqdm==5.0.0\n",
      "Please use `tqdm.notebook.tqdm` instead of `tqdm.tqdm_notebook`\n",
      "  \n"
     ]
    },
    {
     "data": {
      "application/vnd.jupyter.widget-view+json": {
       "model_id": "ce55314e79c8461f9d130049ae8217d9",
       "version_major": 2,
       "version_minor": 0
      },
      "text/plain": [
       "  0%|          | 0/857 [00:00<?, ?it/s]"
      ]
     },
     "metadata": {},
     "output_type": "display_data"
    }
   ],
   "source": [
    "DEVICE = 'cuda'\n",
    "\n",
    "imgmodel = ShopeeImageEmbeddingNet()\n",
    "imgmodel = imgmodel.to(DEVICE)\n",
    "\n",
    "imagefeat = []\n",
    "with torch.no_grad():\n",
    "    for data in tqdm_notebook(imageloader):\n",
    "        data = data.to(DEVICE)\n",
    "        feat = imgmodel(data)\n",
    "        feat = feat.reshape(feat.shape[0], feat.shape[1])\n",
    "        feat = feat.data.cpu().numpy()\n",
    "        \n",
    "        imagefeat.append(feat)"
   ]
  },
  {
   "cell_type": "code",
   "execution_count": 16,
   "metadata": {
    "ExecuteTime": {
     "end_time": "2021-03-18T10:01:43.818543Z",
     "start_time": "2021-03-18T10:01:43.401624Z"
    },
    "execution": {
     "iopub.execute_input": "2022-04-20T14:07:48.650335Z",
     "iopub.status.busy": "2022-04-20T14:07:48.649640Z",
     "iopub.status.idle": "2022-04-20T14:07:49.475159Z",
     "shell.execute_reply": "2022-04-20T14:07:49.474146Z"
    },
    "papermill": {
     "duration": 0.849271,
     "end_time": "2022-04-20T14:07:49.475308",
     "exception": false,
     "start_time": "2022-04-20T14:07:48.626037",
     "status": "completed"
    },
    "scrolled": true,
    "tags": []
   },
   "outputs": [],
   "source": [
    "from sklearn.preprocessing import normalize\n",
    "\n",
    "# l2 norm to kill all the sim in 0-1\n",
    "imagefeat = np.vstack(imagefeat)\n",
    "imagefeat = normalize(imagefeat)"
   ]
  },
  {
   "cell_type": "code",
   "execution_count": 17,
   "metadata": {
    "execution": {
     "iopub.execute_input": "2022-04-20T14:07:49.520100Z",
     "iopub.status.busy": "2022-04-20T14:07:49.519280Z",
     "iopub.status.idle": "2022-04-20T14:07:49.540068Z",
     "shell.execute_reply": "2022-04-20T14:07:49.539573Z"
    },
    "papermill": {
     "duration": 0.044075,
     "end_time": "2022-04-20T14:07:49.540197",
     "exception": false,
     "start_time": "2022-04-20T14:07:49.496122",
     "status": "completed"
    },
    "tags": []
   },
   "outputs": [],
   "source": [
    "imagefeat = torch.from_numpy(imagefeat)\n",
    "imagefeat = imagefeat.cuda()"
   ]
  },
  {
   "cell_type": "code",
   "execution_count": 18,
   "metadata": {
    "ExecuteTime": {
     "end_time": "2021-03-18T10:01:54.771453Z",
     "start_time": "2021-03-18T10:01:44.50243Z"
    },
    "execution": {
     "iopub.execute_input": "2022-04-20T14:07:49.588861Z",
     "iopub.status.busy": "2022-04-20T14:07:49.588258Z",
     "iopub.status.idle": "2022-04-20T14:08:27.756399Z",
     "shell.execute_reply": "2022-04-20T14:08:27.755932Z"
    },
    "papermill": {
     "duration": 38.196107,
     "end_time": "2022-04-20T14:08:27.756540",
     "exception": false,
     "start_time": "2022-04-20T14:07:49.560433",
     "status": "completed"
    },
    "tags": []
   },
   "outputs": [
    {
     "name": "stdout",
     "output_type": "stream",
     "text": [
      "Finding similar images...\n",
      "chunk 0 to 4096\n",
      "chunk 4096 to 8192\n",
      "chunk 8192 to 12288\n",
      "chunk 12288 to 16384\n",
      "chunk 16384 to 20480\n",
      "chunk 20480 to 24576\n",
      "chunk 24576 to 28672\n",
      "chunk 28672 to 32768\n",
      "chunk 32768 to 34250\n"
     ]
    }
   ],
   "source": [
    "preds = []\n",
    "CHUNK = 1024*4\n",
    "\n",
    "\n",
    "print('Finding similar images...')\n",
    "CTS = len(imagefeat)//CHUNK\n",
    "if len(imagefeat)%CHUNK!=0: CTS += 1\n",
    "for j in range( CTS ):\n",
    "    \n",
    "    a = j*CHUNK\n",
    "    b = (j+1)*CHUNK\n",
    "    b = min(b, len(imagefeat))\n",
    "    print('chunk',a,'to',b)\n",
    "    \n",
    "    distances = torch.matmul(imagefeat, imagefeat[a:b].T).T\n",
    "    distances = distances.data.cpu().numpy()\n",
    "    # distances = np.dot(imagefeat[a:b,], imagefeat.T)\n",
    "    \n",
    "    for k in range(b-a):\n",
    "        # IDX = cupy.where(distances[k,]>0.95)[0]\n",
    "        IDX = np.where(distances[k,]>0.95)[0][:]\n",
    "        o = train.iloc[IDX].posting_id.values\n",
    "#         o = train.iloc[cupy.asnumpy(IDX)].posting_id.values\n",
    "        preds.append(o)\n",
    "        \n",
    "del imagefeat, imgmodel"
   ]
  },
  {
   "cell_type": "code",
   "execution_count": 19,
   "metadata": {
    "ExecuteTime": {
     "end_time": "2021-03-18T10:01:58.132852Z",
     "start_time": "2021-03-18T10:01:56.678412Z"
    },
    "execution": {
     "iopub.execute_input": "2022-04-20T14:08:27.852018Z",
     "iopub.status.busy": "2022-04-20T14:08:27.851014Z",
     "iopub.status.idle": "2022-04-20T14:08:30.150064Z",
     "shell.execute_reply": "2022-04-20T14:08:30.150473Z"
    },
    "papermill": {
     "duration": 2.357276,
     "end_time": "2022-04-20T14:08:30.150625",
     "exception": false,
     "start_time": "2022-04-20T14:08:27.793349",
     "status": "completed"
    },
    "tags": []
   },
   "outputs": [
    {
     "name": "stdout",
     "output_type": "stream",
     "text": [
      "CV score for baseline = 0.6527899883424048\n"
     ]
    }
   ],
   "source": [
    "train['oof_cnn'] = preds\n",
    "\n",
    "if COMPUTE_CV:\n",
    "    train['f1'] = train.apply(getMetric('oof_cnn'),axis=1)\n",
    "    print('CV score for baseline =',train.f1.mean())\n",
    "    \n",
    "# 0.6527899883424048 0.95\n",
    "# 0.6686372611222741 0.94\n",
    "# 0.6762305764407363 0.93"
   ]
  },
  {
   "cell_type": "markdown",
   "metadata": {
    "papermill": {
     "duration": 0.022242,
     "end_time": "2022-04-20T14:08:30.194861",
     "exception": false,
     "start_time": "2022-04-20T14:08:30.172619",
     "status": "completed"
    },
    "tags": []
   },
   "source": [
    "# title TFIDF"
   ]
  },
  {
   "cell_type": "code",
   "execution_count": 20,
   "metadata": {
    "ExecuteTime": {
     "end_time": "2021-03-18T10:02:00.631468Z",
     "start_time": "2021-03-18T10:01:59.851964Z"
    },
    "execution": {
     "iopub.execute_input": "2022-04-20T14:08:30.243882Z",
     "iopub.status.busy": "2022-04-20T14:08:30.243247Z",
     "iopub.status.idle": "2022-04-20T14:08:31.872571Z",
     "shell.execute_reply": "2022-04-20T14:08:31.872990Z"
    },
    "papermill": {
     "duration": 1.656083,
     "end_time": "2022-04-20T14:08:31.873142",
     "exception": false,
     "start_time": "2022-04-20T14:08:30.217059",
     "status": "completed"
    },
    "tags": []
   },
   "outputs": [
    {
     "name": "stdout",
     "output_type": "stream",
     "text": [
      "text embeddings shape (34250, 25069)\n"
     ]
    }
   ],
   "source": [
    "from sklearn.feature_extraction.text import TfidfVectorizer\n",
    "model = TfidfVectorizer(stop_words=None, binary=True, max_features=55000)\n",
    "text_embeddings = model.fit_transform(train.title).toarray()\n",
    "print('text embeddings shape',text_embeddings.shape)"
   ]
  },
  {
   "cell_type": "code",
   "execution_count": 21,
   "metadata": {
    "execution": {
     "iopub.execute_input": "2022-04-20T14:08:31.928527Z",
     "iopub.status.busy": "2022-04-20T14:08:31.927496Z",
     "iopub.status.idle": "2022-04-20T14:08:34.567443Z",
     "shell.execute_reply": "2022-04-20T14:08:34.566873Z"
    },
    "papermill": {
     "duration": 2.671952,
     "end_time": "2022-04-20T14:08:34.567592",
     "exception": false,
     "start_time": "2022-04-20T14:08:31.895640",
     "status": "completed"
    },
    "tags": []
   },
   "outputs": [],
   "source": [
    "text_embeddings = torch.from_numpy(text_embeddings)\n",
    "text_embeddings = text_embeddings.cuda()"
   ]
  },
  {
   "cell_type": "code",
   "execution_count": 22,
   "metadata": {
    "ExecuteTime": {
     "end_time": "2021-03-18T10:05:46.252393Z",
     "start_time": "2021-03-18T10:02:01.803979Z"
    },
    "execution": {
     "iopub.execute_input": "2022-04-20T14:08:34.622291Z",
     "iopub.status.busy": "2022-04-20T14:08:34.621509Z",
     "iopub.status.idle": "2022-04-20T14:09:36.117404Z",
     "shell.execute_reply": "2022-04-20T14:09:36.116944Z"
    },
    "papermill": {
     "duration": 61.527065,
     "end_time": "2022-04-20T14:09:36.117546",
     "exception": false,
     "start_time": "2022-04-20T14:08:34.590481",
     "status": "completed"
    },
    "tags": []
   },
   "outputs": [
    {
     "name": "stdout",
     "output_type": "stream",
     "text": [
      "Finding similar titles...\n",
      "chunk 0 to 4096\n",
      "(4096, 34250)\n",
      "chunk 4096 to 8192\n",
      "(4096, 34250)\n",
      "chunk 8192 to 12288\n",
      "(4096, 34250)\n",
      "chunk 12288 to 16384\n",
      "(4096, 34250)\n",
      "chunk 16384 to 20480\n",
      "(4096, 34250)\n",
      "chunk 20480 to 24576\n",
      "(4096, 34250)\n",
      "chunk 24576 to 28672\n",
      "(4096, 34250)\n",
      "chunk 28672 to 32768\n",
      "(4096, 34250)\n",
      "chunk 32768 to 34250\n",
      "(1482, 34250)\n"
     ]
    }
   ],
   "source": [
    "preds = []\n",
    "CHUNK = 1024*4\n",
    "\n",
    "print('Finding similar titles...')\n",
    "CTS = len(train)//CHUNK\n",
    "if len(train)%CHUNK!=0: CTS += 1\n",
    "CTS_index = 0\n",
    "for j in range( CTS ):\n",
    "    \n",
    "    a = j*CHUNK\n",
    "    b = (j+1)*CHUNK\n",
    "    b = min(b,len(train))\n",
    "    print('chunk',a,'to',b)\n",
    "    \n",
    "    # COSINE SIMILARITY DISTANCE\n",
    "    # cts = np.dot( text_embeddings, text_embeddings[a:b].T).T\n",
    "    cts = torch.matmul(text_embeddings, text_embeddings[a:b].T).T\n",
    "    cts = cts.data.cpu().numpy()\n",
    "    print(cts.shape)\n",
    "    for k in range(b-a):\n",
    "        # IDX = np.where(cts[k,]>0.7)[0]\n",
    "        IDX = np.where(cts[k,]>0.7)[0]\n",
    "        o = train.iloc[IDX].posting_id.values\n",
    "        preds.append(o)\n",
    "        CTS_index += 1\n",
    "# del model, text_embeddings"
   ]
  },
  {
   "cell_type": "code",
   "execution_count": 23,
   "metadata": {
    "ExecuteTime": {
     "end_time": "2021-03-18T10:06:03.146166Z",
     "start_time": "2021-03-18T10:06:01.83687Z"
    },
    "execution": {
     "iopub.execute_input": "2022-04-20T14:09:36.181975Z",
     "iopub.status.busy": "2022-04-20T14:09:36.181124Z",
     "iopub.status.idle": "2022-04-20T14:09:38.409802Z",
     "shell.execute_reply": "2022-04-20T14:09:38.408628Z"
    },
    "papermill": {
     "duration": 2.264808,
     "end_time": "2022-04-20T14:09:38.409972",
     "exception": false,
     "start_time": "2022-04-20T14:09:36.145164",
     "status": "completed"
    },
    "tags": []
   },
   "outputs": [
    {
     "name": "stdout",
     "output_type": "stream",
     "text": [
      "CV score for baseline = 0.6135949792642108\n"
     ]
    }
   ],
   "source": [
    "train['oof_text'] = preds\n",
    "\n",
    "if COMPUTE_CV:\n",
    "    train['f1'] = train.apply(getMetric('oof_text'),axis=1)\n",
    "    print('CV score for baseline =',train.f1.mean())\n",
    "    \n",
    "    \n",
    "# 0.6137154152579091 0.7\n",
    "# 0.6507316994356058 0.6"
   ]
  },
  {
   "cell_type": "code",
   "execution_count": 24,
   "metadata": {
    "ExecuteTime": {
     "end_time": "2021-03-18T10:06:04.931476Z",
     "start_time": "2021-03-18T10:06:04.925838Z"
    },
    "execution": {
     "iopub.execute_input": "2022-04-20T14:09:38.471047Z",
     "iopub.status.busy": "2022-04-20T14:09:38.470396Z",
     "iopub.status.idle": "2022-04-20T14:09:38.473473Z",
     "shell.execute_reply": "2022-04-20T14:09:38.473071Z"
    },
    "papermill": {
     "duration": 0.035546,
     "end_time": "2022-04-20T14:09:38.473589",
     "exception": false,
     "start_time": "2022-04-20T14:09:38.438043",
     "status": "completed"
    },
    "tags": []
   },
   "outputs": [],
   "source": [
    "def combine_for_sub(row):\n",
    "    x = np.concatenate([row.oof_text,row.oof_cnn, row.oof_hash])\n",
    "    return ' '.join( np.unique(x) )\n",
    "\n",
    "def combine_for_cv(row):\n",
    "    x = np.concatenate([row.oof_text,row.oof_cnn, row.oof_hash])\n",
    "    return np.unique(x)"
   ]
  },
  {
   "cell_type": "code",
   "execution_count": 25,
   "metadata": {
    "ExecuteTime": {
     "end_time": "2021-03-18T10:06:09.759812Z",
     "start_time": "2021-03-18T10:06:05.955972Z"
    },
    "execution": {
     "iopub.execute_input": "2022-04-20T14:09:38.535673Z",
     "iopub.status.busy": "2022-04-20T14:09:38.534917Z",
     "iopub.status.idle": "2022-04-20T14:09:45.593814Z",
     "shell.execute_reply": "2022-04-20T14:09:45.593311Z"
    },
    "papermill": {
     "duration": 7.092903,
     "end_time": "2022-04-20T14:09:45.593959",
     "exception": false,
     "start_time": "2022-04-20T14:09:38.501056",
     "status": "completed"
    },
    "tags": []
   },
   "outputs": [
    {
     "name": "stdout",
     "output_type": "stream",
     "text": [
      "CV Score = 0.7341838727212323\n"
     ]
    }
   ],
   "source": [
    "if COMPUTE_CV:\n",
    "    tmp = train.groupby('label_group').posting_id.agg('unique').to_dict()\n",
    "    train['target'] = train.label_group.map(tmp)\n",
    "    train['oof'] = train.apply(combine_for_cv,axis=1)\n",
    "    train['f1'] = train.apply(getMetric('oof'),axis=1)\n",
    "    print('CV Score =', train.f1.mean() )\n",
    "\n",
    "train['matches'] = train.apply(combine_for_sub,axis=1)"
   ]
  },
  {
   "cell_type": "code",
   "execution_count": 26,
   "metadata": {
    "ExecuteTime": {
     "end_time": "2021-03-18T10:06:12.385916Z",
     "start_time": "2021-03-18T10:06:12.180234Z"
    },
    "execution": {
     "iopub.execute_input": "2022-04-20T14:09:45.658458Z",
     "iopub.status.busy": "2022-04-20T14:09:45.657605Z",
     "iopub.status.idle": "2022-04-20T14:09:46.110078Z",
     "shell.execute_reply": "2022-04-20T14:09:46.110484Z"
    },
    "papermill": {
     "duration": 0.488381,
     "end_time": "2022-04-20T14:09:46.110631",
     "exception": false,
     "start_time": "2022-04-20T14:09:45.622250",
     "status": "completed"
    },
    "tags": []
   },
   "outputs": [
    {
     "data": {
      "text/html": [
       "<div>\n",
       "<style scoped>\n",
       "    .dataframe tbody tr th:only-of-type {\n",
       "        vertical-align: middle;\n",
       "    }\n",
       "\n",
       "    .dataframe tbody tr th {\n",
       "        vertical-align: top;\n",
       "    }\n",
       "\n",
       "    .dataframe thead th {\n",
       "        text-align: right;\n",
       "    }\n",
       "</style>\n",
       "<table border=\"1\" class=\"dataframe\">\n",
       "  <thead>\n",
       "    <tr style=\"text-align: right;\">\n",
       "      <th></th>\n",
       "      <th>posting_id</th>\n",
       "      <th>matches</th>\n",
       "    </tr>\n",
       "  </thead>\n",
       "  <tbody>\n",
       "    <tr>\n",
       "      <th>0</th>\n",
       "      <td>train_129225211</td>\n",
       "      <td>train_129225211 train_2278313361</td>\n",
       "    </tr>\n",
       "    <tr>\n",
       "      <th>1</th>\n",
       "      <td>train_3386243561</td>\n",
       "      <td>train_3386243561</td>\n",
       "    </tr>\n",
       "    <tr>\n",
       "      <th>2</th>\n",
       "      <td>train_2288590299</td>\n",
       "      <td>train_2288590299</td>\n",
       "    </tr>\n",
       "    <tr>\n",
       "      <th>3</th>\n",
       "      <td>train_2406599165</td>\n",
       "      <td>train_1508100548 train_1744956981 train_240659...</td>\n",
       "    </tr>\n",
       "    <tr>\n",
       "      <th>4</th>\n",
       "      <td>train_3369186413</td>\n",
       "      <td>train_3369186413</td>\n",
       "    </tr>\n",
       "  </tbody>\n",
       "</table>\n",
       "</div>"
      ],
      "text/plain": [
       "         posting_id                                            matches\n",
       "0   train_129225211                   train_129225211 train_2278313361\n",
       "1  train_3386243561                                   train_3386243561\n",
       "2  train_2288590299                                   train_2288590299\n",
       "3  train_2406599165  train_1508100548 train_1744956981 train_240659...\n",
       "4  train_3369186413                                   train_3369186413"
      ]
     },
     "execution_count": 26,
     "metadata": {},
     "output_type": "execute_result"
    }
   ],
   "source": [
    "train[['posting_id','matches']].to_csv('submission.csv',index=False)\n",
    "sub = pd.read_csv('submission.csv')\n",
    "sub.head()"
   ]
  },
  {
   "cell_type": "code",
   "execution_count": null,
   "metadata": {
    "papermill": {
     "duration": 0.028377,
     "end_time": "2022-04-20T14:09:46.167494",
     "exception": false,
     "start_time": "2022-04-20T14:09:46.139117",
     "status": "completed"
    },
    "tags": []
   },
   "outputs": [],
   "source": []
  }
 ],
 "metadata": {
  "kernelspec": {
   "display_name": "Python 3",
   "language": "python",
   "name": "python3"
  },
  "language_info": {
   "codemirror_mode": {
    "name": "ipython",
    "version": 3
   },
   "file_extension": ".py",
   "mimetype": "text/x-python",
   "name": "python",
   "nbconvert_exporter": "python",
   "pygments_lexer": "ipython3",
   "version": "3.7.9"
  },
  "papermill": {
   "default_parameters": {},
   "duration": 794.240085,
   "end_time": "2022-04-20T14:09:47.307958",
   "environment_variables": {},
   "exception": null,
   "input_path": "__notebook__.ipynb",
   "output_path": "__notebook__.ipynb",
   "parameters": {},
   "start_time": "2022-04-20T13:56:33.067873",
   "version": "2.2.2"
  },
  "widgets": {
   "application/vnd.jupyter.widget-state+json": {
    "state": {
     "309481b1e0a3439890720c4a4445bed0": {
      "model_module": "@jupyter-widgets/controls",
      "model_module_version": "1.5.0",
      "model_name": "ProgressStyleModel",
      "state": {
       "_model_module": "@jupyter-widgets/controls",
       "_model_module_version": "1.5.0",
       "_model_name": "ProgressStyleModel",
       "_view_count": null,
       "_view_module": "@jupyter-widgets/base",
       "_view_module_version": "1.2.0",
       "_view_name": "StyleView",
       "bar_color": null,
       "description_width": ""
      }
     },
     "344303be310943849d3440d695d93dc7": {
      "model_module": "@jupyter-widgets/controls",
      "model_module_version": "1.5.0",
      "model_name": "HTMLModel",
      "state": {
       "_dom_classes": [],
       "_model_module": "@jupyter-widgets/controls",
       "_model_module_version": "1.5.0",
       "_model_name": "HTMLModel",
       "_view_count": null,
       "_view_module": "@jupyter-widgets/controls",
       "_view_module_version": "1.5.0",
       "_view_name": "HTMLView",
       "description": "",
       "description_tooltip": null,
       "layout": "IPY_MODEL_b38493b8efdc44e4bd69c0f4b1ba1420",
       "placeholder": "​",
       "style": "IPY_MODEL_cfe1ef2dc54b408b805c136fb1d35a3b",
       "value": "100%"
      }
     },
     "88cedb75afe44b829ff00b1c83a41ed8": {
      "model_module": "@jupyter-widgets/controls",
      "model_module_version": "1.5.0",
      "model_name": "HTMLModel",
      "state": {
       "_dom_classes": [],
       "_model_module": "@jupyter-widgets/controls",
       "_model_module_version": "1.5.0",
       "_model_name": "HTMLModel",
       "_view_count": null,
       "_view_module": "@jupyter-widgets/controls",
       "_view_module_version": "1.5.0",
       "_view_name": "HTMLView",
       "description": "",
       "description_tooltip": null,
       "layout": "IPY_MODEL_e61fdfe3211f4380beb79ecdcfc31695",
       "placeholder": "​",
       "style": "IPY_MODEL_ad95b034e3e5496589da4a2993bed935",
       "value": " 857/857 [10:52&lt;00:00,  1.79it/s]"
      }
     },
     "aa03e44b34d8463386a3da8466c6ea64": {
      "model_module": "@jupyter-widgets/base",
      "model_module_version": "1.2.0",
      "model_name": "LayoutModel",
      "state": {
       "_model_module": "@jupyter-widgets/base",
       "_model_module_version": "1.2.0",
       "_model_name": "LayoutModel",
       "_view_count": null,
       "_view_module": "@jupyter-widgets/base",
       "_view_module_version": "1.2.0",
       "_view_name": "LayoutView",
       "align_content": null,
       "align_items": null,
       "align_self": null,
       "border": null,
       "bottom": null,
       "display": null,
       "flex": null,
       "flex_flow": null,
       "grid_area": null,
       "grid_auto_columns": null,
       "grid_auto_flow": null,
       "grid_auto_rows": null,
       "grid_column": null,
       "grid_gap": null,
       "grid_row": null,
       "grid_template_areas": null,
       "grid_template_columns": null,
       "grid_template_rows": null,
       "height": null,
       "justify_content": null,
       "justify_items": null,
       "left": null,
       "margin": null,
       "max_height": null,
       "max_width": null,
       "min_height": null,
       "min_width": null,
       "object_fit": null,
       "object_position": null,
       "order": null,
       "overflow": null,
       "overflow_x": null,
       "overflow_y": null,
       "padding": null,
       "right": null,
       "top": null,
       "visibility": null,
       "width": null
      }
     },
     "ad95b034e3e5496589da4a2993bed935": {
      "model_module": "@jupyter-widgets/controls",
      "model_module_version": "1.5.0",
      "model_name": "DescriptionStyleModel",
      "state": {
       "_model_module": "@jupyter-widgets/controls",
       "_model_module_version": "1.5.0",
       "_model_name": "DescriptionStyleModel",
       "_view_count": null,
       "_view_module": "@jupyter-widgets/base",
       "_view_module_version": "1.2.0",
       "_view_name": "StyleView",
       "description_width": ""
      }
     },
     "b38493b8efdc44e4bd69c0f4b1ba1420": {
      "model_module": "@jupyter-widgets/base",
      "model_module_version": "1.2.0",
      "model_name": "LayoutModel",
      "state": {
       "_model_module": "@jupyter-widgets/base",
       "_model_module_version": "1.2.0",
       "_model_name": "LayoutModel",
       "_view_count": null,
       "_view_module": "@jupyter-widgets/base",
       "_view_module_version": "1.2.0",
       "_view_name": "LayoutView",
       "align_content": null,
       "align_items": null,
       "align_self": null,
       "border": null,
       "bottom": null,
       "display": null,
       "flex": null,
       "flex_flow": null,
       "grid_area": null,
       "grid_auto_columns": null,
       "grid_auto_flow": null,
       "grid_auto_rows": null,
       "grid_column": null,
       "grid_gap": null,
       "grid_row": null,
       "grid_template_areas": null,
       "grid_template_columns": null,
       "grid_template_rows": null,
       "height": null,
       "justify_content": null,
       "justify_items": null,
       "left": null,
       "margin": null,
       "max_height": null,
       "max_width": null,
       "min_height": null,
       "min_width": null,
       "object_fit": null,
       "object_position": null,
       "order": null,
       "overflow": null,
       "overflow_x": null,
       "overflow_y": null,
       "padding": null,
       "right": null,
       "top": null,
       "visibility": null,
       "width": null
      }
     },
     "ce55314e79c8461f9d130049ae8217d9": {
      "model_module": "@jupyter-widgets/controls",
      "model_module_version": "1.5.0",
      "model_name": "HBoxModel",
      "state": {
       "_dom_classes": [],
       "_model_module": "@jupyter-widgets/controls",
       "_model_module_version": "1.5.0",
       "_model_name": "HBoxModel",
       "_view_count": null,
       "_view_module": "@jupyter-widgets/controls",
       "_view_module_version": "1.5.0",
       "_view_name": "HBoxView",
       "box_style": "",
       "children": [
        "IPY_MODEL_344303be310943849d3440d695d93dc7",
        "IPY_MODEL_d5847e4d46da4e4aa14e4bd0383c2a12",
        "IPY_MODEL_88cedb75afe44b829ff00b1c83a41ed8"
       ],
       "layout": "IPY_MODEL_aa03e44b34d8463386a3da8466c6ea64"
      }
     },
     "cfe1ef2dc54b408b805c136fb1d35a3b": {
      "model_module": "@jupyter-widgets/controls",
      "model_module_version": "1.5.0",
      "model_name": "DescriptionStyleModel",
      "state": {
       "_model_module": "@jupyter-widgets/controls",
       "_model_module_version": "1.5.0",
       "_model_name": "DescriptionStyleModel",
       "_view_count": null,
       "_view_module": "@jupyter-widgets/base",
       "_view_module_version": "1.2.0",
       "_view_name": "StyleView",
       "description_width": ""
      }
     },
     "d5847e4d46da4e4aa14e4bd0383c2a12": {
      "model_module": "@jupyter-widgets/controls",
      "model_module_version": "1.5.0",
      "model_name": "FloatProgressModel",
      "state": {
       "_dom_classes": [],
       "_model_module": "@jupyter-widgets/controls",
       "_model_module_version": "1.5.0",
       "_model_name": "FloatProgressModel",
       "_view_count": null,
       "_view_module": "@jupyter-widgets/controls",
       "_view_module_version": "1.5.0",
       "_view_name": "ProgressView",
       "bar_style": "success",
       "description": "",
       "description_tooltip": null,
       "layout": "IPY_MODEL_eea595e41c30435d96646211d906bb75",
       "max": 857,
       "min": 0,
       "orientation": "horizontal",
       "style": "IPY_MODEL_309481b1e0a3439890720c4a4445bed0",
       "value": 857
      }
     },
     "e61fdfe3211f4380beb79ecdcfc31695": {
      "model_module": "@jupyter-widgets/base",
      "model_module_version": "1.2.0",
      "model_name": "LayoutModel",
      "state": {
       "_model_module": "@jupyter-widgets/base",
       "_model_module_version": "1.2.0",
       "_model_name": "LayoutModel",
       "_view_count": null,
       "_view_module": "@jupyter-widgets/base",
       "_view_module_version": "1.2.0",
       "_view_name": "LayoutView",
       "align_content": null,
       "align_items": null,
       "align_self": null,
       "border": null,
       "bottom": null,
       "display": null,
       "flex": null,
       "flex_flow": null,
       "grid_area": null,
       "grid_auto_columns": null,
       "grid_auto_flow": null,
       "grid_auto_rows": null,
       "grid_column": null,
       "grid_gap": null,
       "grid_row": null,
       "grid_template_areas": null,
       "grid_template_columns": null,
       "grid_template_rows": null,
       "height": null,
       "justify_content": null,
       "justify_items": null,
       "left": null,
       "margin": null,
       "max_height": null,
       "max_width": null,
       "min_height": null,
       "min_width": null,
       "object_fit": null,
       "object_position": null,
       "order": null,
       "overflow": null,
       "overflow_x": null,
       "overflow_y": null,
       "padding": null,
       "right": null,
       "top": null,
       "visibility": null,
       "width": null
      }
     },
     "eea595e41c30435d96646211d906bb75": {
      "model_module": "@jupyter-widgets/base",
      "model_module_version": "1.2.0",
      "model_name": "LayoutModel",
      "state": {
       "_model_module": "@jupyter-widgets/base",
       "_model_module_version": "1.2.0",
       "_model_name": "LayoutModel",
       "_view_count": null,
       "_view_module": "@jupyter-widgets/base",
       "_view_module_version": "1.2.0",
       "_view_name": "LayoutView",
       "align_content": null,
       "align_items": null,
       "align_self": null,
       "border": null,
       "bottom": null,
       "display": null,
       "flex": null,
       "flex_flow": null,
       "grid_area": null,
       "grid_auto_columns": null,
       "grid_auto_flow": null,
       "grid_auto_rows": null,
       "grid_column": null,
       "grid_gap": null,
       "grid_row": null,
       "grid_template_areas": null,
       "grid_template_columns": null,
       "grid_template_rows": null,
       "height": null,
       "justify_content": null,
       "justify_items": null,
       "left": null,
       "margin": null,
       "max_height": null,
       "max_width": null,
       "min_height": null,
       "min_width": null,
       "object_fit": null,
       "object_position": null,
       "order": null,
       "overflow": null,
       "overflow_x": null,
       "overflow_y": null,
       "padding": null,
       "right": null,
       "top": null,
       "visibility": null,
       "width": null
      }
     }
    },
    "version_major": 2,
    "version_minor": 0
   }
  }
 },
 "nbformat": 4,
 "nbformat_minor": 4
}
